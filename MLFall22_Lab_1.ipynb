{
  "cells": [
    {
      "cell_type": "markdown",
      "metadata": {
        "id": "view-in-github",
        "colab_type": "text"
      },
      "source": [
        "<a href=\"https://colab.research.google.com/github/ramanarayanan-98/ml-fall22-lab1-rs8117/blob/main/MLFall22_Lab_1.ipynb\" target=\"_parent\"><img src=\"https://colab.research.google.com/assets/colab-badge.svg\" alt=\"Open In Colab\"/></a>"
      ]
    },
    {
      "cell_type": "markdown",
      "metadata": {
        "id": "1wOHgOlL82YP"
      },
      "source": [
        "# Part 1:  Simple linear regression for one independent variable\n",
        "\n",
        "In this lab, you will load data, plot data, perform simple mathematical manipulations, and fit a simple linear regression model.  Before doing this lab, you can go through the class demo on simple linear regression for an automobile dataset.  This lab uses the Boston housing data set, a widely-used machine learning data set for illustrating basic concepts.  "
      ]
    },
    {
      "cell_type": "markdown",
      "metadata": {
        "collapsed": true,
        "id": "BQfs8r8882YS"
      },
      "source": [
        "## Loading the data\n",
        "\n",
        "The Boston housing data set was collected in the 1970s to study the relationship between house price and various factors such as the house size, crime rate, socio-economic status, etc.  Since the variables are easy to understand, the data set is ideal for learning basic concepts in machine learning.  The raw data and a complete description of the dataset can be found on the UCI website:\n",
        "\n",
        "https://archive.ics.uci.edu/ml/machine-learning-databases/housing/\n",
        "\n",
        "Each row in the dataset it not a single house -- it corresponds to the average information about homes in a single single [census track](https://en.wikipedia.org/wiki/Census_tract).\n",
        "\n",
        "In the lab, you will complete all the code marked `TODO`. \n",
        "\n",
        "First, complete the following code that uses the `pd.read_csv` command to read the data from the file located at\n",
        "\n",
        "https://archive.ics.uci.edu/ml/machine-learning-databases/housing/housing.data\n",
        "\n",
        "I have supplied a list `names` of the column headers.  You will have to set the options in the `read_csv` command to correctly delimit the data in the file and name the columns correctly."
      ]
    },
    {
      "cell_type": "code",
      "execution_count": 1,
      "metadata": {
        "id": "ri1lo0uf82YS"
      },
      "outputs": [],
      "source": [
        "import pandas as pd\n",
        "import numpy as np\n",
        "colnames =[\n",
        "    'CRIM', 'ZN', 'INDUS', 'CHAS', 'NOX', 'RM', \n",
        "    'AGE',  'DIS', 'RAD', 'TAX', 'PTRATIO', 'B', 'LSTAT', 'PRICE'\n",
        "]\n",
        "\n",
        "df = pd.read_csv(\"https://archive.ics.uci.edu/ml/machine-learning-databases/housing/housing.data\",delim_whitespace=True,names=colnames)"
      ]
    },
    {
      "cell_type": "markdown",
      "metadata": {
        "id": "_LfapTGd82YT"
      },
      "source": [
        "Display the first six rows of the data frame"
      ]
    },
    {
      "cell_type": "code",
      "execution_count": 2,
      "metadata": {
        "id": "wntinQOm82YT",
        "outputId": "aacc3411-e4a1-4a26-d477-cb7ad496800b",
        "colab": {
          "base_uri": "https://localhost:8080/",
          "height": 237
        }
      },
      "outputs": [
        {
          "output_type": "execute_result",
          "data": {
            "text/plain": [
              "      CRIM    ZN  INDUS  CHAS    NOX     RM   AGE     DIS  RAD    TAX  \\\n",
              "0  0.00632  18.0   2.31     0  0.538  6.575  65.2  4.0900    1  296.0   \n",
              "1  0.02731   0.0   7.07     0  0.469  6.421  78.9  4.9671    2  242.0   \n",
              "2  0.02729   0.0   7.07     0  0.469  7.185  61.1  4.9671    2  242.0   \n",
              "3  0.03237   0.0   2.18     0  0.458  6.998  45.8  6.0622    3  222.0   \n",
              "4  0.06905   0.0   2.18     0  0.458  7.147  54.2  6.0622    3  222.0   \n",
              "5  0.02985   0.0   2.18     0  0.458  6.430  58.7  6.0622    3  222.0   \n",
              "\n",
              "   PTRATIO       B  LSTAT  PRICE  \n",
              "0     15.3  396.90   4.98   24.0  \n",
              "1     17.8  396.90   9.14   21.6  \n",
              "2     17.8  392.83   4.03   34.7  \n",
              "3     18.7  394.63   2.94   33.4  \n",
              "4     18.7  396.90   5.33   36.2  \n",
              "5     18.7  394.12   5.21   28.7  "
            ],
            "text/html": [
              "\n",
              "  <div id=\"df-95df9360-b8f7-4f69-b470-9dc014f139f6\">\n",
              "    <div class=\"colab-df-container\">\n",
              "      <div>\n",
              "<style scoped>\n",
              "    .dataframe tbody tr th:only-of-type {\n",
              "        vertical-align: middle;\n",
              "    }\n",
              "\n",
              "    .dataframe tbody tr th {\n",
              "        vertical-align: top;\n",
              "    }\n",
              "\n",
              "    .dataframe thead th {\n",
              "        text-align: right;\n",
              "    }\n",
              "</style>\n",
              "<table border=\"1\" class=\"dataframe\">\n",
              "  <thead>\n",
              "    <tr style=\"text-align: right;\">\n",
              "      <th></th>\n",
              "      <th>CRIM</th>\n",
              "      <th>ZN</th>\n",
              "      <th>INDUS</th>\n",
              "      <th>CHAS</th>\n",
              "      <th>NOX</th>\n",
              "      <th>RM</th>\n",
              "      <th>AGE</th>\n",
              "      <th>DIS</th>\n",
              "      <th>RAD</th>\n",
              "      <th>TAX</th>\n",
              "      <th>PTRATIO</th>\n",
              "      <th>B</th>\n",
              "      <th>LSTAT</th>\n",
              "      <th>PRICE</th>\n",
              "    </tr>\n",
              "  </thead>\n",
              "  <tbody>\n",
              "    <tr>\n",
              "      <th>0</th>\n",
              "      <td>0.00632</td>\n",
              "      <td>18.0</td>\n",
              "      <td>2.31</td>\n",
              "      <td>0</td>\n",
              "      <td>0.538</td>\n",
              "      <td>6.575</td>\n",
              "      <td>65.2</td>\n",
              "      <td>4.0900</td>\n",
              "      <td>1</td>\n",
              "      <td>296.0</td>\n",
              "      <td>15.3</td>\n",
              "      <td>396.90</td>\n",
              "      <td>4.98</td>\n",
              "      <td>24.0</td>\n",
              "    </tr>\n",
              "    <tr>\n",
              "      <th>1</th>\n",
              "      <td>0.02731</td>\n",
              "      <td>0.0</td>\n",
              "      <td>7.07</td>\n",
              "      <td>0</td>\n",
              "      <td>0.469</td>\n",
              "      <td>6.421</td>\n",
              "      <td>78.9</td>\n",
              "      <td>4.9671</td>\n",
              "      <td>2</td>\n",
              "      <td>242.0</td>\n",
              "      <td>17.8</td>\n",
              "      <td>396.90</td>\n",
              "      <td>9.14</td>\n",
              "      <td>21.6</td>\n",
              "    </tr>\n",
              "    <tr>\n",
              "      <th>2</th>\n",
              "      <td>0.02729</td>\n",
              "      <td>0.0</td>\n",
              "      <td>7.07</td>\n",
              "      <td>0</td>\n",
              "      <td>0.469</td>\n",
              "      <td>7.185</td>\n",
              "      <td>61.1</td>\n",
              "      <td>4.9671</td>\n",
              "      <td>2</td>\n",
              "      <td>242.0</td>\n",
              "      <td>17.8</td>\n",
              "      <td>392.83</td>\n",
              "      <td>4.03</td>\n",
              "      <td>34.7</td>\n",
              "    </tr>\n",
              "    <tr>\n",
              "      <th>3</th>\n",
              "      <td>0.03237</td>\n",
              "      <td>0.0</td>\n",
              "      <td>2.18</td>\n",
              "      <td>0</td>\n",
              "      <td>0.458</td>\n",
              "      <td>6.998</td>\n",
              "      <td>45.8</td>\n",
              "      <td>6.0622</td>\n",
              "      <td>3</td>\n",
              "      <td>222.0</td>\n",
              "      <td>18.7</td>\n",
              "      <td>394.63</td>\n",
              "      <td>2.94</td>\n",
              "      <td>33.4</td>\n",
              "    </tr>\n",
              "    <tr>\n",
              "      <th>4</th>\n",
              "      <td>0.06905</td>\n",
              "      <td>0.0</td>\n",
              "      <td>2.18</td>\n",
              "      <td>0</td>\n",
              "      <td>0.458</td>\n",
              "      <td>7.147</td>\n",
              "      <td>54.2</td>\n",
              "      <td>6.0622</td>\n",
              "      <td>3</td>\n",
              "      <td>222.0</td>\n",
              "      <td>18.7</td>\n",
              "      <td>396.90</td>\n",
              "      <td>5.33</td>\n",
              "      <td>36.2</td>\n",
              "    </tr>\n",
              "    <tr>\n",
              "      <th>5</th>\n",
              "      <td>0.02985</td>\n",
              "      <td>0.0</td>\n",
              "      <td>2.18</td>\n",
              "      <td>0</td>\n",
              "      <td>0.458</td>\n",
              "      <td>6.430</td>\n",
              "      <td>58.7</td>\n",
              "      <td>6.0622</td>\n",
              "      <td>3</td>\n",
              "      <td>222.0</td>\n",
              "      <td>18.7</td>\n",
              "      <td>394.12</td>\n",
              "      <td>5.21</td>\n",
              "      <td>28.7</td>\n",
              "    </tr>\n",
              "  </tbody>\n",
              "</table>\n",
              "</div>\n",
              "      <button class=\"colab-df-convert\" onclick=\"convertToInteractive('df-95df9360-b8f7-4f69-b470-9dc014f139f6')\"\n",
              "              title=\"Convert this dataframe to an interactive table.\"\n",
              "              style=\"display:none;\">\n",
              "        \n",
              "  <svg xmlns=\"http://www.w3.org/2000/svg\" height=\"24px\"viewBox=\"0 0 24 24\"\n",
              "       width=\"24px\">\n",
              "    <path d=\"M0 0h24v24H0V0z\" fill=\"none\"/>\n",
              "    <path d=\"M18.56 5.44l.94 2.06.94-2.06 2.06-.94-2.06-.94-.94-2.06-.94 2.06-2.06.94zm-11 1L8.5 8.5l.94-2.06 2.06-.94-2.06-.94L8.5 2.5l-.94 2.06-2.06.94zm10 10l.94 2.06.94-2.06 2.06-.94-2.06-.94-.94-2.06-.94 2.06-2.06.94z\"/><path d=\"M17.41 7.96l-1.37-1.37c-.4-.4-.92-.59-1.43-.59-.52 0-1.04.2-1.43.59L10.3 9.45l-7.72 7.72c-.78.78-.78 2.05 0 2.83L4 21.41c.39.39.9.59 1.41.59.51 0 1.02-.2 1.41-.59l7.78-7.78 2.81-2.81c.8-.78.8-2.07 0-2.86zM5.41 20L4 18.59l7.72-7.72 1.47 1.35L5.41 20z\"/>\n",
              "  </svg>\n",
              "      </button>\n",
              "      \n",
              "  <style>\n",
              "    .colab-df-container {\n",
              "      display:flex;\n",
              "      flex-wrap:wrap;\n",
              "      gap: 12px;\n",
              "    }\n",
              "\n",
              "    .colab-df-convert {\n",
              "      background-color: #E8F0FE;\n",
              "      border: none;\n",
              "      border-radius: 50%;\n",
              "      cursor: pointer;\n",
              "      display: none;\n",
              "      fill: #1967D2;\n",
              "      height: 32px;\n",
              "      padding: 0 0 0 0;\n",
              "      width: 32px;\n",
              "    }\n",
              "\n",
              "    .colab-df-convert:hover {\n",
              "      background-color: #E2EBFA;\n",
              "      box-shadow: 0px 1px 2px rgba(60, 64, 67, 0.3), 0px 1px 3px 1px rgba(60, 64, 67, 0.15);\n",
              "      fill: #174EA6;\n",
              "    }\n",
              "\n",
              "    [theme=dark] .colab-df-convert {\n",
              "      background-color: #3B4455;\n",
              "      fill: #D2E3FC;\n",
              "    }\n",
              "\n",
              "    [theme=dark] .colab-df-convert:hover {\n",
              "      background-color: #434B5C;\n",
              "      box-shadow: 0px 1px 3px 1px rgba(0, 0, 0, 0.15);\n",
              "      filter: drop-shadow(0px 1px 2px rgba(0, 0, 0, 0.3));\n",
              "      fill: #FFFFFF;\n",
              "    }\n",
              "  </style>\n",
              "\n",
              "      <script>\n",
              "        const buttonEl =\n",
              "          document.querySelector('#df-95df9360-b8f7-4f69-b470-9dc014f139f6 button.colab-df-convert');\n",
              "        buttonEl.style.display =\n",
              "          google.colab.kernel.accessAllowed ? 'block' : 'none';\n",
              "\n",
              "        async function convertToInteractive(key) {\n",
              "          const element = document.querySelector('#df-95df9360-b8f7-4f69-b470-9dc014f139f6');\n",
              "          const dataTable =\n",
              "            await google.colab.kernel.invokeFunction('convertToInteractive',\n",
              "                                                     [key], {});\n",
              "          if (!dataTable) return;\n",
              "\n",
              "          const docLinkHtml = 'Like what you see? Visit the ' +\n",
              "            '<a target=\"_blank\" href=https://colab.research.google.com/notebooks/data_table.ipynb>data table notebook</a>'\n",
              "            + ' to learn more about interactive tables.';\n",
              "          element.innerHTML = '';\n",
              "          dataTable['output_type'] = 'display_data';\n",
              "          await google.colab.output.renderOutput(dataTable, element);\n",
              "          const docLink = document.createElement('div');\n",
              "          docLink.innerHTML = docLinkHtml;\n",
              "          element.appendChild(docLink);\n",
              "        }\n",
              "      </script>\n",
              "    </div>\n",
              "  </div>\n",
              "  "
            ]
          },
          "metadata": {},
          "execution_count": 2
        }
      ],
      "source": [
        "df.head(6)"
      ]
    },
    {
      "cell_type": "markdown",
      "metadata": {
        "id": "QCtnTO4W82YU"
      },
      "source": [
        "## Basic Manipulations on the Data\n",
        "\n",
        "What is the shape of the data?  How many attributes are there?  How many samples?\n",
        "Print a statement of the form:\n",
        "\n",
        "    num samples=xxx, num attributes=yy"
      ]
    },
    {
      "cell_type": "code",
      "execution_count": 3,
      "metadata": {
        "id": "_RwUMg_P82YU",
        "outputId": "c4f48642-f911-48b2-a6bc-ec4fc09cdf6f",
        "colab": {
          "base_uri": "https://localhost:8080/"
        }
      },
      "outputs": [
        {
          "output_type": "stream",
          "name": "stdout",
          "text": [
            "num samples=506, num attributes=14\n"
          ]
        }
      ],
      "source": [
        "print(f\"num samples={df.shape[0]}, num attributes={df.shape[1]}\")"
      ]
    },
    {
      "cell_type": "markdown",
      "metadata": {
        "id": "0l54X2fn82YU"
      },
      "source": [
        "Create a response vector `y` with the values in the column `PRICE`.  The vector `y` should be a 1D `numpy.ndarray` structure."
      ]
    },
    {
      "cell_type": "code",
      "execution_count": 4,
      "metadata": {
        "id": "2XE4xs3P82YV"
      },
      "outputs": [],
      "source": [
        "y = df[\"PRICE\"].values"
      ]
    },
    {
      "cell_type": "markdown",
      "metadata": {
        "id": "ck5d5fnf82YV"
      },
      "source": [
        "Use the response vector `y` to find the mean house price in thousands and the fraction of homes that are above $40k. (You may realize this is very cheap.  Prices have gone up a lot since the 1970s!). Print and label your results."
      ]
    },
    {
      "cell_type": "code",
      "execution_count": 5,
      "metadata": {
        "id": "CRPdVStC82YW",
        "outputId": "429a3e83-e237-4d5b-f4d4-f68f83af68a6",
        "colab": {
          "base_uri": "https://localhost:8080/"
        }
      },
      "outputs": [
        {
          "output_type": "stream",
          "name": "stdout",
          "text": [
            "mean_price=22.532806324110677\n",
            "fraction_above_40k=31/506=0.06126482213438735\n"
          ]
        }
      ],
      "source": [
        "print(f\"mean_price={y.mean()}\")\n",
        "dataframe_gt_40 = df[df[\"PRICE\"].gt(40)]\n",
        "print(f\"fraction_above_40k={len(dataframe_gt_40)}/{len(y)}={len(dataframe_gt_40)/len(y)}\")"
      ]
    },
    {
      "cell_type": "markdown",
      "metadata": {
        "id": "WKV5d5N882YW"
      },
      "source": [
        "## Visualizing the Data\n",
        "\n",
        "Load the `matplotlib` package with the following commands."
      ]
    },
    {
      "cell_type": "code",
      "execution_count": 6,
      "metadata": {
        "id": "boqNOrZp82YW"
      },
      "outputs": [],
      "source": [
        "import matplotlib\n",
        "import matplotlib.pyplot as plt\n",
        "%matplotlib inline"
      ]
    },
    {
      "cell_type": "markdown",
      "metadata": {
        "id": "wV3xdlIP82YW"
      },
      "source": [
        "Similar to the `y` vector, create a predictor vector `x` containing the values in the `RM` column, which represents the average number of rooms in each census track."
      ]
    },
    {
      "cell_type": "code",
      "execution_count": 7,
      "metadata": {
        "id": "K-6zHpkC82YX"
      },
      "outputs": [],
      "source": [
        "x = df[\"RM\"].values"
      ]
    },
    {
      "cell_type": "markdown",
      "metadata": {
        "id": "PfjeI4M982YX"
      },
      "source": [
        "Create a scatter plot of the price vs. the `RM` attribute.  Label the axes with reasonable labels so that someone else can understand the plot."
      ]
    },
    {
      "cell_type": "code",
      "execution_count": 8,
      "metadata": {
        "id": "8ohcQaqj82YX",
        "outputId": "4ffc742e-4833-4187-c8bc-bb63f96bbe55",
        "colab": {
          "base_uri": "https://localhost:8080/",
          "height": 279
        }
      },
      "outputs": [
        {
          "output_type": "display_data",
          "data": {
            "text/plain": [
              "<Figure size 432x288 with 1 Axes>"
            ],
            "image/png": "[encoded data removed]"
          },
          "metadata": {
            "needs_background": "light"
          }
        }
      ],
      "source": [
        "plt.plot(x,y,'o')\n",
        "plt.xlabel(\"Average Rooms\")\n",
        "plt.ylabel(\"Price\")\n",
        "plt.grid(True)"
      ]
    },
    {
      "cell_type": "markdown",
      "metadata": {
        "id": "A4Bq2-MS82YX"
      },
      "source": [
        "## Fitting a Simple Linear Model\n",
        "\n",
        "We will write a simple function to perform a linear fit under the squared loss function. Use the formulae given in the class to compute the optimal parameters $\\beta_0,\\beta_1$ in the linear model $$y =\\beta_0 + \\beta_1 x$$ as well as the optimal loss $\\sum_{i=1}^n (y_i - \\beta_0 - \\beta_1 x)^2$."
      ]
    },
    {
      "cell_type": "code",
      "execution_count": 9,
      "metadata": {
        "id": "f1KClvuZ82YX"
      },
      "outputs": [],
      "source": [
        "def fit_linear(x,y):\n",
        "    \"\"\"\n",
        "    Given vectors of data points (x,y), performs a fit for the linear model:\n",
        "       y = beta0 + beta1*x, \n",
        "    The function returns beta0, beta1, and loss, where loss is the sum-of-squares loss of.\n",
        "    \"\"\"\n",
        "    xm,ym = np.mean(x),np.mean(y)\n",
        "    sxx = np.mean((x-xm)**2)\n",
        "    syy = np.mean((y-ym)**2)\n",
        "    syx = np.mean((y-ym)*(x-xm))\n",
        "    beta1 = syx/sxx\n",
        "    beta0 = ym-(beta1*xm)\n",
        "    yp = beta0 + (beta1*x)\n",
        "    loss = np.sum((y-yp)**2)\n",
        "    return beta0, beta1, loss"
      ]
    },
    {
      "cell_type": "markdown",
      "metadata": {
        "id": "-Z31VFI782YY"
      },
      "source": [
        "Using the function `fit_linear` above, print the values `beta0`, `beta1` and `loss` for the linear model of price vs. number of rooms."
      ]
    },
    {
      "cell_type": "code",
      "execution_count": 10,
      "metadata": {
        "id": "3YqPtVCb82YY",
        "outputId": "193e0bd1-af33-4300-c58c-e783d795bd52",
        "colab": {
          "base_uri": "https://localhost:8080/"
        }
      },
      "outputs": [
        {
          "output_type": "stream",
          "name": "stdout",
          "text": [
            "PRICE vs RM: beta0 = -34.67062077643857, beta1 = 9.10210898118031, loss = 22061.879196211798\n"
          ]
        }
      ],
      "source": [
        "b0,b1,l = fit_linear(x,y)\n",
        "print(f\"PRICE vs RM: beta0 = {b0}, beta1 = {b1}, loss = {l}\")\n"
      ]
    },
    {
      "cell_type": "markdown",
      "metadata": {
        "id": "HgGsqX_782YY"
      },
      "source": [
        "Replot the scatter plot above, but now with the regression line.  You can create the regression line by creating points `yp` that are the predicted values for each value in `x`, according to our linear model. Plot as a line, not a scatter plot."
      ]
    },
    {
      "cell_type": "code",
      "execution_count": 11,
      "metadata": {
        "id": "lcRn_sBm82YY",
        "outputId": "751ed434-a3d4-408c-80e3-8a89f2a5415c",
        "colab": {
          "base_uri": "https://localhost:8080/",
          "height": 279
        }
      },
      "outputs": [
        {
          "output_type": "display_data",
          "data": {
            "text/plain": [
              "<Figure size 432x288 with 1 Axes>"
            ],
            "image/png": "[encoded data removed]"
          },
          "metadata": {
            "needs_background": "light"
          }
        }
      ],
      "source": [
        "yp = b0+(b1*x)\n",
        "plt.plot(x,y,\"o\")\n",
        "plt.plot(x,yp,\"-\")\n",
        "plt.xlabel(\"Average Rooms\")\n",
        "plt.ylabel(\"Price\")\n",
        "plt.grid(True)"
      ]
    },
    {
      "cell_type": "markdown",
      "metadata": {
        "id": "k4tKB1WB82YY"
      },
      "source": [
        "# Part 2:  Compare different dependent variables\n",
        "\n",
        "\n",
        "We next compute the squared loss for all the predictors and output the values in a table. Your table should look like the following, where each entry in the first column is the attribute name and the second column is the squared loss.\n",
        "\n",
        "    CRIM        XXXXX\n",
        "    ZN          XXXXX\n",
        "    INDUS       XXXXX\n",
        "    ...         ...\n",
        "\n",
        "You will need to write a loop. One option is to loop over the list of colunm names in the dataframe `df`.\n",
        "\n",
        "What variable does the best job predicting house price?"
      ]
    },
    {
      "cell_type": "code",
      "execution_count": 12,
      "metadata": {
        "id": "zgttKdBI82YY",
        "outputId": "680c7106-2a39-42ed-9eda-88ea277e0343",
        "colab": {
          "base_uri": "https://localhost:8080/"
        }
      },
      "outputs": [
        {
          "output_type": "stream",
          "name": "stdout",
          "text": [
            "CRIM    36275.512356275096\n",
            "ZN    37166.55822394633\n",
            "INDUS    32721.108150384098\n",
            "CHAS    41404.21614437368\n",
            "NOX    34916.16990783579\n",
            "RM    22061.879196211798\n",
            "AGE    36646.53435007064\n",
            "DIS    40048.04884255197\n",
            "RAD    36495.15481166092\n",
            "TAX    33338.96132044059\n",
            "PTRATIO    31702.01320696725\n",
            "B    37966.409179004666\n",
            "LSTAT    19472.38141832644\n",
            "Best predictor variable: LSTAT with loss = 19472.38141832644\n"
          ]
        }
      ],
      "source": [
        "minloss = l\n",
        "minlossEle = \"RM\"\n",
        "for colmn in df.columns.tolist():\n",
        "  if colmn != \"PRICE\":\n",
        "    b0,b1,loss = fit_linear(df[colmn],y)\n",
        "    if loss < minloss:\n",
        "      minloss = loss\n",
        "      minLossEle = colmn\n",
        "    print(f\"{colmn}    {loss}\")\n",
        "\n",
        "print(f\"Best predictor variable: {minLossEle} with loss = {minloss}\")\n",
        "\n"
      ]
    },
    {
      "cell_type": "markdown",
      "source": [
        "**TODO:** Describe in words the meaning of the most predictive variable for housing price. You might need to do some Googling to figure out what it means. "
      ],
      "metadata": {
        "id": "MEhPnx9lAtb_"
      }
    },
    {
      "cell_type": "markdown",
      "metadata": {
        "id": "XjN9H2pa82YZ"
      },
      "source": [
        "# Part 3:  Compare different loss functions\n",
        "\n",
        "## A Brute force algorithm for squared loss\n",
        "\n",
        "Your code in `fit_linear` relies on the closed form expressions for the optimal $\\beta_0$ and $\\beta_1$, which we derived in class. However, if you did not know these formulas, you could have approximately minimized the loss function by brute force searching over a grid of possible values for $\\beta_0$ and $\\beta_1$. This idea was suggested by a student in our class. \n",
        "\n",
        "For example, we could try out all combinations of parameters where $\\beta_0$ is in `np.arange(-50,50,1)` and $\\beta_1$ is in `np.arange(-10,10,.1)`"
      ]
    },
    {
      "cell_type": "markdown",
      "metadata": {
        "id": "_3wMpT1b82YZ"
      },
      "source": [
        "Write a function which takes this approach to find a $\\beta_0$ and $\\beta_1$ which approximately minimize the squared loss: $\\sum_{i=1}^n (y_i - \\beta_0 - \\beta_1 x)^2$"
      ]
    },
    {
      "cell_type": "code",
      "execution_count": 24,
      "metadata": {
        "id": "xM5-ccw382YZ",
        "outputId": "bb6dec78-087c-457e-c477-b8fe8f9d9eb3",
        "colab": {
          "base_uri": "https://localhost:8080/",
          "height": 332
        }
      },
      "outputs": [
        {
          "output_type": "stream",
          "name": "stdout",
          "text": [
            "Result of approximate fit : beta0 = 34, beta1 = -0.9000000000000323, loss = 19540.082422999883\n",
            "Result of linear fit : beta0 = 34.5538408793831, beta1 = -0.9500493537579907, loss = 19472.38141832644\n"
          ]
        },
        {
          "output_type": "execute_result",
          "data": {
            "text/plain": [
              "<matplotlib.legend.Legend at 0x7f1cd1e18190>"
            ]
          },
          "metadata": {},
          "execution_count": 24
        },
        {
          "output_type": "display_data",
          "data": {
            "text/plain": [
              "<Figure size 432x288 with 1 Axes>"
            ],
            "image/png": "[encoded data removed]"
          },
          "metadata": {
            "needs_background": "light"
          }
        }
      ],
      "source": [
        "import sys\n",
        "def fit_approx(x,y):\n",
        "    \"\"\"\n",
        "    Given vectors of data points (x,y), performs an *approximate* fit for the linear model:\n",
        "       y = beta0 + beta1*x, \n",
        "    under the sum-of-squares loss. The min_loss returned is the lost of the best beta0 and beta1 you found.\n",
        "    \"\"\"\n",
        "    min_loss = sys.float_info.max\n",
        "\n",
        "    for b0 in np.arange(-50,50,1):\n",
        "      for b1 in np.arange(-10,10,.1):\n",
        "        ypred = b0+(b1*x)\n",
        "        loss = np.sum((y-ypred)**2)\n",
        "        if loss < min_loss:\n",
        "          beta0 = b0\n",
        "          beta1 = b1\n",
        "          min_loss = loss\n",
        "\n",
        "    return beta0, beta1, min_loss\n",
        "\n",
        "lstatcol = df[\"LSTAT\"].values\n",
        "xplt_range = np.arange(0,40)\n",
        "\n",
        "plt.plot(lstatcol,y,\"o\")\n",
        "plt.xlabel(\"LSTAT\")\n",
        "plt.ylabel(\"PRICE\")\n",
        "\n",
        "a_b0,a_b1,a_l = fit_approx(lstatcol,y)\n",
        "print(f\"Result of approximate fit : beta0 = {a_b0}, beta1 = {a_b1}, loss = {a_l}\")\n",
        "\n",
        "a_yp = a_b0+(a_b1*xplt_range)\n",
        "plt.plot(xplt_range,a_yp,\"-\")\n",
        "\n",
        "l_b0,l_b1,l_l = fit_linear(lstatcol,y)\n",
        "print(f\"Result of linear fit : beta0 = {l_b0}, beta1 = {l_b1}, loss = {l_l}\")\n",
        "\n",
        "l_yp = l_b0+(l_b1*xplt_range)\n",
        "plt.plot(xplt_range,l_yp,\"-\")\n",
        "\n",
        "plt.grid(True)\n",
        "plt.legend(['data', 'approx_fit', 'linear_fit'])\n"
      ]
    },
    {
      "cell_type": "markdown",
      "metadata": {
        "id": "L7xf8hw082YZ"
      },
      "source": [
        "Compare the output of `fit_approx` and `fit_linear` with `y` being `PRICE` and `x` being the `LSAT` variable from our dataset. You should do so:\n",
        "* quantitatively, by printing the loss that each approach achieves\n",
        "* and visually, by plotting the different fit lines obtained."
      ]
    },
    {
      "cell_type": "markdown",
      "metadata": {
        "id": "spb3y0i882YZ"
      },
      "source": [
        "## Extending to different loss functions\n",
        "\n",
        "One benefit of the above approach is that is easily extends to different loss funtions. Write functions which find an approximately optimal $\\beta_0$ and $\\beta_1$ for\n",
        "* minimizing the $\\ell_1$ (least absolute deviations) loss: $\\sum_{i=1}^n |y_i - \\beta_0 - \\beta_1 x|$ \n",
        "* minimizing the $\\ell_\\infty$ (max) loss: $\\max_i |y_i - \\beta_0 - \\beta_1 x|$\n"
      ]
    },
    {
      "cell_type": "code",
      "execution_count": 25,
      "metadata": {
        "id": "pu5H4-pM82YZ"
      },
      "outputs": [],
      "source": [
        "def fit_approx_l1(x,y):\n",
        "    \"\"\"\n",
        "    Given vectors of data points (x,y), performs an *approximate* fit for the linear model:\n",
        "       y = beta0 + beta1*x, \n",
        "    under the least absolute deviations loss.\n",
        "    \"\"\"\n",
        "    min_loss = sys.float_info.max\n",
        "\n",
        "    for b0 in np.arange(-50,50,1):\n",
        "      for b1 in np.arange(-10,10,.1):\n",
        "        ypred = b0+(b1*x)\n",
        "        loss = np.sum(np.absolute(y-ypred))\n",
        "        if loss < min_loss:\n",
        "          beta0 = b0\n",
        "          beta1 = b1\n",
        "          min_loss = loss\n",
        "    \n",
        "    return beta0, beta1, min_loss"
      ]
    },
    {
      "cell_type": "code",
      "execution_count": 28,
      "metadata": {
        "id": "_8g0HgL582YZ"
      },
      "outputs": [],
      "source": [
        "def fit_approx_max(x,y):\n",
        "    \"\"\"\n",
        "    Given vectors of data points (x,y), performs an *approximate* fit for the linear model:\n",
        "       y = beta0 + beta1*x, \n",
        "    under the max loss.\n",
        "    \"\"\"\n",
        "    min_loss = sys.float_info.max\n",
        "\n",
        "    for b0 in np.arange(-50,50,1):\n",
        "      for b1 in np.arange(-10,10,.1):\n",
        "        ypred = b0+(b1*x)\n",
        "        loss = np.max(np.absolute(y-ypred))\n",
        "        if loss < min_loss:\n",
        "          beta0 = b0\n",
        "          beta1 = b1\n",
        "          min_loss = loss\n",
        "    \n",
        "    return beta0, beta1, min_loss"
      ]
    },
    {
      "cell_type": "markdown",
      "metadata": {
        "id": "Oi444lua82YZ"
      },
      "source": [
        "Use your algorithm to obtain 3 different linear fits for `PRICE` with predictor variable `LSTAT`, one for squared loss, one for $\\ell_1$ loss, and one for $\\ell_\\infty$ loss. Plot the linear fits (along with the data scatter plot) on a single figure and use a legend to indicate which fit corresponds to which loss."
      ]
    },
    {
      "cell_type": "code",
      "execution_count": 29,
      "metadata": {
        "id": "_MqNQ1Lo82YZ",
        "outputId": "3744be6f-df9d-4c13-ab83-782666b8b987",
        "colab": {
          "base_uri": "https://localhost:8080/",
          "height": 350
        }
      },
      "outputs": [
        {
          "output_type": "stream",
          "name": "stdout",
          "text": [
            "Result of approximate fit : beta0 = 34, beta1 = -0.9000000000000323, loss = 19540.082422999883\n",
            "Result of approximate l1 fit : beta0 = 31, beta1 = -0.8000000000000327, loss = 2163.5600000000027\n",
            "Result of approximate max fit : beta0 = 37, beta1 = -0.700000000000033, loss = 19.671000000000316\n"
          ]
        },
        {
          "output_type": "execute_result",
          "data": {
            "text/plain": [
              "<matplotlib.legend.Legend at 0x7f1cd1c937d0>"
            ]
          },
          "metadata": {},
          "execution_count": 29
        },
        {
          "output_type": "display_data",
          "data": {
            "text/plain": [
              "<Figure size 432x288 with 1 Axes>"
            ],
            "image/png": "[encoded data removed]"
          },
          "metadata": {
            "needs_background": "light"
          }
        }
      ],
      "source": [
        "plt.plot(lstatcol,y,\"o\")\n",
        "plt.xlabel(\"LSTAT\")\n",
        "plt.ylabel(\"PRICE\")\n",
        "\n",
        "a_b0,a_b1,a_l = fit_approx(lstatcol,y)\n",
        "print(f\"Result of approximate fit : beta0 = {a_b0}, beta1 = {a_b1}, loss = {a_l}\")\n",
        "\n",
        "a_yp = a_b0+(a_b1*xplt_range)\n",
        "plt.plot(xplt_range,a_yp,\"-\")\n",
        "\n",
        "al_b0,al_b1,al_l = fit_approx_l1(lstatcol,y)\n",
        "print(f\"Result of approximate l1 fit : beta0 = {al_b0}, beta1 = {al_b1}, loss = {al_l}\")\n",
        "\n",
        "al_yp = al_b0+(al_b1*xplt_range)\n",
        "plt.plot(xplt_range,al_yp,\"-\")\n",
        "\n",
        "l_b0,l_b1,l_l = fit_approx_max(lstatcol,y)\n",
        "print(f\"Result of approximate max fit : beta0 = {l_b0}, beta1 = {l_b1}, loss = {l_l}\")\n",
        "\n",
        "l_yp = l_b0+(l_b1*xplt_range)\n",
        "plt.plot(xplt_range,l_yp,\"-\")\n",
        "\n",
        "plt.grid(True)\n",
        "plt.legend(['data', 'approx_fit', 'approx_abs_fit','approx_maxerror_fit'])"
      ]
    }
  ],
  "metadata": {
    "anaconda-cloud": {},
    "kernelspec": {
      "display_name": "Python 3",
      "language": "python",
      "name": "python3"
    },
    "language_info": {
      "codemirror_mode": {
        "name": "ipython",
        "version": 3
      },
      "file_extension": ".py",
      "mimetype": "text/x-python",
      "name": "python",
      "nbconvert_exporter": "python",
      "pygments_lexer": "ipython3",
      "version": "3.7.4"
    },
    "colab": {
      "provenance": [],
      "collapsed_sections": [],
      "include_colab_link": true
    }
  },
  "nbformat": 4,
  "nbformat_minor": 0
}